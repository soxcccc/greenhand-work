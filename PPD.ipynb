{
 "cells": [
  {
   "cell_type": "markdown",
   "metadata": {},
   "source": [
    "# <center>拍拍贷风险评估解决方案</center>\n",
    "<center>王雪纯 15307100119</center>     \n",
    "## 一、解决方案概述\n",
    "### 1.1\t 问题识别\n",
    "&emsp;&emsp;拍拍贷公司从超过200个数据维度，通过借款人的特征、网络行为、学历以及第三方数据等全面信息，来评估用户的信用状态，并通过大数据来预测借款人的信贷违约风险。  \n",
    "&emsp;&emsp;因此，考虑将问题转化成了一个二分类问题，评估指标为Accuracy、AUC、Confusion Matrix。\n",
    "### 1.2\t 解决方案\n",
    "&emsp;&emsp;首先是**数据导入与数据清洗**，除了本身的数据，还引入了股票市场、IPO等维度的外部信息，之后对缺失值进行了多种处理，并对一些变量进行了删除和转化；进一步进行了**特征工程**，这里我们对分类变量、时间变量、地区变量等进行了特征构建和提取；在具体建模之前，我们对**数据不平衡**进行了处理，主要使用了SMOTE的方法；最后便是**模型的建立**，使用了XGBoost、可解释性较强的逻辑回归模型、以及两种Stacking的模型融合，令人出乎意料的是，朴素的逻辑回归领跑全局，提升百分比高达60%，收益增加了360余亿元。"
   ]
  },
  {
   "cell_type": "code",
   "execution_count": 2,
   "metadata": {},
   "outputs": [],
   "source": [
    "import pandas as pd\n",
    "import numpy as np\n",
    "import datetime\n",
    "import warnings\n",
    "warnings.filterwarnings('ignore')"
   ]
  },
  {
   "cell_type": "markdown",
   "metadata": {},
   "source": [
    "## 二、数据导入与数据清洗\n",
    "### 2.1 数据导入\n",
    "&emsp;&emsp;分别导入`PPDtrain`、`PPDtest`，`provinc_city_lookup`，`stock_v4`，`ipo_data_v2`数据集，并将其按时间、地点对应融合，使得原数据集又增加了股票市场、IPO等维度的特征值，并按照`provinc_city_lookup`对原数据集中的城市进行分级。  \n",
    "&emsp;&emsp;可以看见融合后数据维度从226增加到了278。"
   ]
  },
  {
   "cell_type": "code",
   "execution_count": 3,
   "metadata": {},
   "outputs": [
    {
     "name": "stdout",
     "output_type": "stream",
     "text": [
      "train shape: 21000 * 226\n",
      "test shape: 9000 * 226\n"
     ]
    }
   ],
   "source": [
    "# load files\n",
    "f = open('PPDtrain.csv', 'rb')\n",
    "train = pd.read_csv(f, index_col ='Idx', encoding='gb18030')\n",
    "f1 = open('provinc_city_lookup.csv', 'rb')\n",
    "province = pd.read_csv(f1, encoding='gb18030')\n",
    "f2 = open('stock_v4.csv', 'rb')\n",
    "stock = pd.read_csv(f2, encoding='gb18030')\n",
    "f3 = open('ipo_data_v2.csv', 'rb')\n",
    "ipo = pd.read_csv(f3, encoding='gb18030')\n",
    "f4 = open('PPDtest.csv', 'rb')\n",
    "test = pd.read_csv(f4, index_col = 'Idx', encoding='gb18030')\n",
    "print('train shape: %d * %d' %(train.shape[0], train.shape[1]))\n",
    "print('test shape: %d * %d' %(test.shape[0], test.shape[1]))"
   ]
  },
  {
   "cell_type": "code",
   "execution_count": 4,
   "metadata": {},
   "outputs": [
    {
     "name": "stdout",
     "output_type": "stream",
     "text": [
      "train shape after merging: 21000 * 278\n",
      "test shape after merging: 9000 * 278\n"
     ]
    }
   ],
   "source": [
    "# merge data and stock, ipo, location\n",
    "prov = {}\n",
    "for i in range(len(province)):\n",
    "    if province.iloc[i][0] not in prov:\n",
    "        prov[province.iloc[i][0]] = province.iloc[i][2]\n",
    "provs = pd.DataFrame.from_dict(prov,orient='index')\n",
    "train['UserInfo_2'].fillna('其他', inplace = True)\n",
    "test['UserInfo_2'].fillna('其他', inplace = True)\n",
    "train = pd.merge(train, provs, left_on = 'UserInfo_2', right_index = True, copy = False)\n",
    "test = pd.merge(test, provs, left_on = 'UserInfo_2', right_index = True, copy = False)\n",
    "train['ListingInfo'] = pd.to_datetime(train.ListingInfo)\n",
    "stock['date'] = pd.to_datetime(stock.date)\n",
    "test['ListingInfo'] = pd.to_datetime(test.ListingInfo)\n",
    "ipo['date'] = pd.to_datetime(ipo.date)\n",
    "train = pd.merge(train, stock, left_on = 'ListingInfo', right_on = 'date')\n",
    "train = pd.merge(train, ipo, left_on = 'ListingInfo', right_on = 'date')\n",
    "test = pd.merge(test, stock, left_on = 'ListingInfo', right_on = 'date')\n",
    "test = pd.merge(test, ipo, left_on = 'ListingInfo', right_on = 'date')\n",
    "del train['date_x']\n",
    "del train['date_y']\n",
    "del test['date_x']\n",
    "del test['date_y']\n",
    "print('train shape after merging: %d * %d' %(train.shape[0], train.shape[1]))\n",
    "print('test shape after merging: %d * %d' %(test.shape[0], test.shape[1]))"
   ]
  },
  {
   "cell_type": "code",
   "execution_count": 5,
   "metadata": {},
   "outputs": [],
   "source": [
    "train_target = train['target']\n",
    "test_target = test['target']"
   ]
  },
  {
   "cell_type": "markdown",
   "metadata": {},
   "source": [
    "### 2.2 数据清洗\n",
    "#### 2.2.1 删除缺失值过多特征值\n",
    "&emsp;&emsp;由于缺失值过多会影响到模型的效果，我选取了缺失值超过观测数$\\frac 56$的特征值进行了剔除，具体显示如下，共计剔除了8个变量。"
   ]
  },
  {
   "cell_type": "code",
   "execution_count": 6,
   "metadata": {},
   "outputs": [
    {
     "name": "stdout",
     "output_type": "stream",
     "text": [
      "drop: WeblogInfo_1\n",
      "drop: WeblogInfo_3\n",
      "drop: UserInfo_10\n",
      "drop: UserInfo_11\n",
      "drop: UserInfo_12\n",
      "drop: WeblogInfo_20\n",
      "drop: Unnamed: 16\n",
      "drop: Unnamed: 17\n",
      "\n",
      "train shape: 21000 * 270\n",
      "test shape: 9000 * 270\n"
     ]
    }
   ],
   "source": [
    "for name in train.columns:\n",
    "        if train[name].count() < len(train)*5/6:\n",
    "            print('drop:', name)\n",
    "            train.drop(name, axis = 1, inplace = True)\n",
    "            test.drop(name, axis = 1, inplace = True)\n",
    "print('\\ntrain shape: %d * %d' %(train.shape[0], train.shape[1]))\n",
    "print('test shape: %d * %d' %(test.shape[0], test.shape[1]))"
   ]
  },
  {
   "cell_type": "markdown",
   "metadata": {},
   "source": [
    "#### 2.2.2 删除城市（结合外部文件已做过处理）\n",
    "&emsp;&emsp;这边主要是将城市按照助教姐姐提供的csv文件进行分级，处理完后将文件中有关地理的特征值进行剔除，共剔除了7条。"
   ]
  },
  {
   "cell_type": "code",
   "execution_count": 7,
   "metadata": {},
   "outputs": [
    {
     "name": "stdout",
     "output_type": "stream",
     "text": [
      "\n",
      "train shape: 21000 * 263\n",
      "test shape: 9000 * 263\n"
     ]
    }
   ],
   "source": [
    "cities = ['UserInfo_2', 'UserInfo_4', 'UserInfo_6', 'UserInfo_7', \\\n",
    "          'UserInfo_18', 'UserInfo_19', 'UserInfo_23']\n",
    "for name in cities:\n",
    "    train.drop(name, axis = 1, inplace = True)\n",
    "    test.drop(name, axis = 1, inplace = True)\n",
    "print('\\ntrain shape: %d * %d' %(train.shape[0], train.shape[1]))\n",
    "print('test shape: %d * %d' %(test.shape[0], test.shape[1]))"
   ]
  },
  {
   "cell_type": "markdown",
   "metadata": {},
   "source": [
    "#### 2.2.3 删除影响很小的变量（方差小）\n",
    "&emsp;&emsp;注意到有很多特征值的变化很小，比如`WeblogInfo_10`这一变量只有0这一数值，对于违约风险的预测没有任何帮助。我选取了方差小于0.1的变量进行剔除，这样的变量还真不少，达到了53个。"
   ]
  },
  {
   "cell_type": "code",
   "execution_count": 8,
   "metadata": {},
   "outputs": [
    {
     "name": "stdout",
     "output_type": "stream",
     "text": [
      "WeblogInfo_10's variance: 0.000000\n",
      "WeblogInfo_11's variance: 0.042652\n",
      "WeblogInfo_13's variance: 0.001428\n",
      "UserInfo_20's variance: 0.065959\n",
      "Education_Info1's variance: 0.059987\n",
      "Education_Info5's variance: 0.030530\n",
      "WeblogInfo_23's variance: 0.007780\n",
      "WeblogInfo_25's variance: 0.031667\n",
      "WeblogInfo_26's variance: 0.013844\n",
      "WeblogInfo_28's variance: 0.015152\n",
      "WeblogInfo_29's variance: 0.030969\n",
      "WeblogInfo_31's variance: 0.007046\n",
      "WeblogInfo_32's variance: 0.006021\n",
      "WeblogInfo_34's variance: 0.023384\n",
      "WeblogInfo_35's variance: 0.010788\n",
      "WeblogInfo_37's variance: 0.012611\n",
      "WeblogInfo_38's variance: 0.022478\n",
      "WeblogInfo_40's variance: 0.005276\n",
      "WeblogInfo_41's variance: 0.000288\n",
      "WeblogInfo_43's variance: 0.001534\n",
      "WeblogInfo_44's variance: 0.000288\n",
      "WeblogInfo_45's variance: 0.026321\n",
      "WeblogInfo_46's variance: 0.000720\n",
      "WeblogInfo_47's variance: 0.001726\n",
      "WeblogInfo_48's variance: 0.046311\n",
      "WeblogInfo_49's variance: 0.000000\n",
      "WeblogInfo_50's variance: 0.017196\n",
      "WeblogInfo_51's variance: 0.013485\n",
      "WeblogInfo_52's variance: 0.002140\n",
      "WeblogInfo_53's variance: 0.009768\n",
      "WeblogInfo_54's variance: 0.008918\n",
      "WeblogInfo_55's variance: 0.000666\n",
      "WeblogInfo_56's variance: 0.026812\n",
      "WeblogInfo_57's variance: 0.022293\n",
      "WeblogInfo_58's variance: 0.002805\n",
      "SocialNetwork_1's variance: 0.001189\n",
      "SocialNetwork_2's variance: 0.038554\n",
      "SocialNetwork_7's variance: 0.033588\n",
      "SocialNetwork_11's variance: 0.003904\n",
      "SocialNetwork_14's variance: 0.059365\n",
      "SocialNetwork_15's variance: 0.026721\n",
      "SocialNetwork_16's variance: 0.016343\n",
      "target's variance: 0.067956\n",
      "Ratio_future_1m_index's variance: 0.000514\n",
      "Ratio_future_3m_index's variance: 0.004742\n",
      "Ratio_future_6m_index's variance: 0.013178\n",
      "Ratio_future_12m_index's variance: 0.024661\n",
      "cnt_up_2pct's variance: 0.019646\n",
      "cnt_down_2pct's variance: 0.006011\n",
      "prob_ipo's variance: 0.094684\n",
      "prob_ipo_f7d's variance: 0.034640\n",
      "prob_ipo_f15d's variance: 0.018904\n",
      "prob_ipo_f30d's variance: 0.009398\n",
      "\n",
      "train shape: 21000 * 210\n",
      "test shape: 9000 * 210\n"
     ]
    }
   ],
   "source": [
    "for name in train.columns:\n",
    "    if train[name].dtypes == 'int64' or train[name].dtypes == 'float64':\n",
    "        var = np.var(train[name])\n",
    "        if var < 0.1:\n",
    "            print(\"%s's variance: %f\" %(name, var))\n",
    "            train.drop(name, axis = 1, inplace = True)\n",
    "            test.drop(name, axis = 1, inplace = True)\n",
    "print('\\ntrain shape: %d * %d' %(train.shape[0], train.shape[1]))\n",
    "print('test shape: %d * %d' %(test.shape[0], test.shape[1]))"
   ]
  },
  {
   "cell_type": "markdown",
   "metadata": {},
   "source": [
    "#### 2.2.4 删除有缺失值的观测\n",
    "&emsp;&emsp;最后，为了模型构建的方便，对训练数据集中有缺失值的观测进行了剔除，剔除后还余17880条观测。"
   ]
  },
  {
   "cell_type": "code",
   "execution_count": 9,
   "metadata": {},
   "outputs": [
    {
     "name": "stdout",
     "output_type": "stream",
     "text": [
      "train shape: 17880 * 210\n"
     ]
    }
   ],
   "source": [
    "train.dropna(inplace = True)\n",
    "train_target = train_target.loc[train.index]\n",
    "print('train shape: %d * %d' %(train.shape[0], train.shape[1]))"
   ]
  },
  {
   "cell_type": "markdown",
   "metadata": {},
   "source": [
    "## 三、特征工程\n",
    "### 3.1 处理分类变量\n",
    "&emsp;&emsp;由于模型无法处理字符型的分类变量，我对这些变量进行了处理。可以看见字符型的分类变量共有12个，其中ListingInfo为时间序列变量，此处不予处理，在之后的时间变量处理中进行讨论。"
   ]
  },
  {
   "cell_type": "code",
   "execution_count": 10,
   "metadata": {},
   "outputs": [
    {
     "name": "stdout",
     "output_type": "stream",
     "text": [
      "UserInfo_8\n",
      "UserInfo_21\n",
      "UserInfo_22\n",
      "Education_Info2\n",
      "Education_Info3\n",
      "Education_Info4\n",
      "Education_Info6\n",
      "Education_Info7\n",
      "Education_Info8\n",
      "WeblogInfo_19\n",
      "WeblogInfo_21\n",
      "ListingInfo\n"
     ]
    }
   ],
   "source": [
    "for name in train.columns:\n",
    "    if train[name].dtypes != 'int64' and train[name].dtypes != 'float64':\n",
    "        print(name)"
   ]
  },
  {
   "cell_type": "markdown",
   "metadata": {},
   "source": [
    "&emsp;&emsp;接下来对11个变量的各个取值以及数量进行了可视化。  \n",
    "&emsp;&emsp;可以看见，11个分类变量中，部分变量分布分布非常不均匀，考虑对数量太少的类别进行合并，形成新的0-1变量，具体如下：\n",
    "- `UserInfo_21`：D为一类，其余为一类\n",
    "- `UserInfo_22`：D为一类，其余为一类\n",
    "- `Education_Info2`：E为一类，其余为一类\n",
    "- `Education_Info3`：E为一类，其余为一类\n",
    "- `Education_Info4`：E为一类，其余为一类\n",
    "- `Education_Info6`：E为一类，其余为一类\n",
    "- `Education_Info8`：E为一类，其余为一类\n",
    "- `WeblogInfo_19`：I为一类，其余为一类\n",
    "- `WeblogInfo_21`：D为一类，其余为一类\n",
    "\n",
    "&emsp;&emsp;其余变量不变，按照原取值进行独热编码。"
   ]
  },
  {
   "cell_type": "code",
   "execution_count": 11,
   "metadata": {},
   "outputs": [
    {
     "data": {
      "image/png": "[encoded data removed]",
      "text/plain": [
       "<matplotlib.figure.Figure at 0x1b4fb31e1d0>"
      ]
     },
     "metadata": {},
     "output_type": "display_data"
    }
   ],
   "source": [
    "from collections import Counter\n",
    "import matplotlib.pyplot as plt\n",
    "plt.rcParams['font.sans-serif']=['SimHei']\n",
    "fig, axes = plt.subplots(ncols = 3, nrows = 4)\n",
    "fig.set_size_inches(18.5, 18.5)\n",
    "axes[0,0].bar(Counter(train['UserInfo_8']).keys(),Counter(train['UserInfo_8']).values(), alpha = .7)\n",
    "axes[0,0].set_title('UserInfo_8')\n",
    "axes[0,1].bar(Counter(train['UserInfo_21']).keys(),Counter(train['UserInfo_21']).values(), alpha = .7, )\n",
    "axes[0,1].set_title('UserInfo_21')\n",
    "axes[0,2].bar(Counter(train['UserInfo_22']).keys(),Counter(train['UserInfo_22']).values(), alpha = .7, )\n",
    "axes[0,2].set_title('UserInfo_22')\n",
    "axes[1,0].bar(Counter(train['Education_Info2']).keys(),Counter(train['Education_Info2']).values(), alpha = .7, )\n",
    "axes[1,0].set_title('Education_Info2')\n",
    "axes[1,1].bar(Counter(train['Education_Info3']).keys(),Counter(train['Education_Info3']).values(), alpha = .7, )\n",
    "axes[1,1].set_title('Education_Info3')\n",
    "axes[1,2].bar(Counter(train['Education_Info4']).keys(),Counter(train['Education_Info4']).values(), alpha = .7, )\n",
    "axes[1,2].set_title('Education_Info4')\n",
    "axes[2,0].bar(Counter(train['Education_Info6']).keys(),Counter(train['Education_Info6']).values(), alpha = .7, )\n",
    "axes[2,0].set_title('Education_Info6')\n",
    "axes[2,1].bar(Counter(train['Education_Info7']).keys(),Counter(train['Education_Info7']).values(), alpha = .7, )\n",
    "axes[2,1].set_title('Education_Info7')\n",
    "axes[2,2].bar(Counter(train['Education_Info8']).keys(),Counter(train['Education_Info8']).values(), alpha = .7, )\n",
    "axes[2,2].set_title('Education_Info8')\n",
    "axes[3,0].bar(Counter(train['WeblogInfo_19']).keys(),Counter(train['WeblogInfo_19']).values(), alpha = .7, )\n",
    "axes[3,0].set_title('WeblogInfo_19')\n",
    "axes[3,1].bar(Counter(train['WeblogInfo_21']).keys(),Counter(train['WeblogInfo_21']).values(), alpha = .7, )\n",
    "axes[3,1].set_title('WeblogInfo_21')\n",
    "plt.show()"
   ]
  },
  {
   "cell_type": "code",
   "execution_count": 12,
   "metadata": {},
   "outputs": [],
   "source": [
    "# training set\n",
    "train['UserInfo_21'] = train.UserInfo_21.apply(lambda x: 1 if x=='D' else 0)\n",
    "train['UserInfo_22'] = train.UserInfo_22.apply(lambda x: 1 if x=='D' else 0)\n",
    "train['Education_Info2'] = train.Education_Info2.apply(lambda x: 1 if x=='E' else 0)\n",
    "train['Education_Info3'] = train.Education_Info3.apply(lambda x: 1 if x=='E' else 0)\n",
    "train['Education_Info4'] = train.Education_Info4.apply(lambda x: 1 if x=='E' else 0)\n",
    "train['Education_Info6'] = train.Education_Info6.apply(lambda x: 1 if x=='E' else 0)\n",
    "train['Education_Info7'] = train.Education_Info7.apply(lambda x: 1 if x=='E' else 0)\n",
    "train['Education_Info8'] = train.Education_Info8.apply(lambda x: 1 if x=='E' else 0)\n",
    "train['WeblogInfo_19'] = train.WeblogInfo_19.apply(lambda x: 1 if x=='I' else 0)\n",
    "train['WeblogInfo_21'] = train.WeblogInfo_21.apply(lambda x: 1 if x=='D' else 0)\n",
    "train['UserInfo_8_dianxin'] = train.UserInfo_8.apply(lambda x: 1 if x=='中国电信' else 0)\n",
    "train['UserInfo_8_yidong'] = train.UserInfo_8.apply(lambda x: 1 if x=='中国移动' else 0)\n",
    "train['UserInfo_8_liantong'] = train.UserInfo_8.apply(lambda x: 1 if x=='中国联通' else 0)\n",
    "del train['UserInfo_8']\n",
    "# test set\n",
    "test['UserInfo_21'] = test.UserInfo_21.apply(lambda x: 1 if x=='D' else 0)\n",
    "test['UserInfo_22'] = test.UserInfo_22.apply(lambda x: 1 if x=='D' else 0)\n",
    "test['Education_Info2'] = test.Education_Info2.apply(lambda x: 1 if x=='E' else 0)\n",
    "test['Education_Info3'] = test.Education_Info3.apply(lambda x: 1 if x=='E' else 0)\n",
    "test['Education_Info4'] = test.Education_Info4.apply(lambda x: 1 if x=='E' else 0)\n",
    "test['Education_Info6'] = test.Education_Info6.apply(lambda x: 1 if x=='E' else 0)\n",
    "test['Education_Info7'] = test.Education_Info7.apply(lambda x: 1 if x=='E' else 0)\n",
    "test['Education_Info8'] = test.Education_Info8.apply(lambda x: 1 if x=='E' else 0)\n",
    "test['WeblogInfo_19'] = test.WeblogInfo_19.apply(lambda x: 1 if x=='I' else 0)\n",
    "test['WeblogInfo_21'] = test.WeblogInfo_21.apply(lambda x: 1 if x=='D' else 0)\n",
    "test['UserInfo_8_dianxin'] = test.UserInfo_8.apply(lambda x: 1 if x=='中国电信' else 0)\n",
    "test['UserInfo_8_yidong'] = test.UserInfo_8.apply(lambda x: 1 if x=='中国移动' else 0)\n",
    "test['UserInfo_8_liantong'] = test.UserInfo_8.apply(lambda x: 1 if x=='中国联通' else 0)\n",
    "del test['UserInfo_8']"
   ]
  },
  {
   "cell_type": "code",
   "execution_count": 13,
   "metadata": {},
   "outputs": [
    {
     "name": "stdout",
     "output_type": "stream",
     "text": [
      "train shape: 17880 * 212\n",
      "test shape: 9000 * 212\n"
     ]
    }
   ],
   "source": [
    "print('train shape: %d * %d' %(train.shape[0], train.shape[1]))\n",
    "print('test shape: %d * %d' %(test.shape[0], test.shape[1]))"
   ]
  },
  {
   "cell_type": "markdown",
   "metadata": {},
   "source": [
    "&emsp;&emsp;全部处理完成后数据维度变为212维。\n",
    "### 3.2 处理时间变量\n",
    "&emsp;&emsp;按照日期来统计每天借贷的成交量，可以得到以下的曲线图，横坐标为日期，纵坐标是每天的借贷量。\n",
    "\n",
    "&emsp;&emsp;从下图可以看出，拍拍贷的业务总量是在不断增长的，其中值得注意的是，坐标300-350对应的日期，有些出现了借贷量异常之大的时间点，或许这段时间内有些隐藏信息，但是从已有的数据集中难以知道更深层的信息，猜测与股票市场之类的有关，因此我也已引入了股票和IPO等外部信息。\n",
    "\n",
    "&emsp;&emsp;考虑违约率和时间线是有关的，针对`ListingInfo`变量，我将其变为了时间间隔进行处理。具体做法是先找到这些日期中最早的一天（2013/11/01），作为第0天，后面的日期以其为起始按天数增加，也就是下图中的横坐标。"
   ]
  },
  {
   "cell_type": "code",
   "execution_count": 14,
   "metadata": {},
   "outputs": [
    {
     "name": "stdout",
     "output_type": "stream",
     "text": [
      "start time: 2013-11-01 00:00:00\n"
     ]
    },
    {
     "data": {
      "image/png": "[encoded data removed]",
      "text/plain": [
       "<matplotlib.figure.Figure at 0x1b4fb3e76a0>"
      ]
     },
     "metadata": {},
     "output_type": "display_data"
    }
   ],
   "source": [
    "first = train['ListingInfo'].min()\n",
    "print('start time:', first)\n",
    "train['duration'] = (train['ListingInfo']-first).apply(lambda x: x.days)\n",
    "test['duration'] = (test['ListingInfo']-first).apply(lambda x: x.days)\n",
    "del train['ListingInfo']\n",
    "del test['ListingInfo']\n",
    "x = sorted(Counter(train['duration']))\n",
    "y = []\n",
    "for i in x:\n",
    "    y.append(Counter(train['duration'])[i])\n",
    "fig = plt.figure()\n",
    "plt.xlabel('days')\n",
    "plt.ylabel('nums')\n",
    "plt.title('借贷量随天数变化')\n",
    "plt.plot(x, y)\n",
    "plt.show()"
   ]
  },
  {
   "cell_type": "markdown",
   "metadata": {},
   "source": [
    "### 3.3 地区处理\n",
    "&emsp;&emsp;数据集中提供了用户的地理位置信息，包括了七个字段：`UserInfo_2`, `UserInfo_4`, `UserInfo_6`, `UserInfo_7`, `UserInfo_18`, `UserInfo_19`, `UserInfo_23`，其中`UserInfo_7`和`UserInfo_19`是省份字段，其他是城市信息。  \n",
    "&emsp;&emsp;**在这里我对城市按照城市等级进行合并**。按照城市等级，将类别变量进行合并，比如一线城市的北上广深合并，值为1，二线城市合并为二，以此类推。\n",
    "## 四、数据不平衡处理\n",
    "&emsp;&emsp;这里通过SMOTE对数据进行过采样处理，可以看见处理后数据从10:1的高度不平衡，变为了01占比相同的平衡数据集。"
   ]
  },
  {
   "cell_type": "code",
   "execution_count": 15,
   "metadata": {},
   "outputs": [
    {
     "name": "stdout",
     "output_type": "stream",
     "text": [
      "Original dataset shape Counter({0: 16544, 1: 1336})\n",
      "Resampled dataset shape Counter({0: 16544, 1: 16544})\n"
     ]
    }
   ],
   "source": [
    "from imblearn.over_sampling import SMOTE\n",
    "print('Original dataset shape {}'.format(Counter(train_target)))\n",
    "sm = SMOTE(random_state=2018)\n",
    "X_resampled, y_resampled = sm.fit_sample(train, train_target)\n",
    "print('Resampled dataset shape {}'.format(Counter(y_resampled)))\n",
    "X_resampled = pd.DataFrame(X_resampled, columns = train.columns)\n",
    "y_resampled = pd.Series(y_resampled)"
   ]
  },
  {
   "cell_type": "markdown",
   "metadata": {},
   "source": [
    "## 五、模型建立\n",
    "### 5.1 single XGBoost\n",
    "我首先使用了XGBoost进行建模。"
   ]
  },
  {
   "cell_type": "code",
   "execution_count": 402,
   "metadata": {},
   "outputs": [
    {
     "name": "stdout",
     "output_type": "stream",
     "text": [
      "[0]\ttrain-auc:0.897773+0.00998955\ttest-auc:0.893605+0.0124182\n",
      "[100]\ttrain-auc:0.980162+0.000484291\ttest-auc:0.97704+0.00179055\n",
      "[200]\ttrain-auc:0.984945+0.00041063\ttest-auc:0.979553+0.00189295\n",
      "[300]\ttrain-auc:0.988476+0.000292448\ttest-auc:0.98074+0.00192168\n",
      "[400]\ttrain-auc:0.991412+0.000248662\ttest-auc:0.981717+0.00176314\n",
      "[500]\ttrain-auc:0.993696+0.00020214\ttest-auc:0.98228+0.0017305\n",
      "[600]\ttrain-auc:0.995547+0.000117479\ttest-auc:0.982689+0.00170706\n",
      "[700]\ttrain-auc:0.996903+0.000127008\ttest-auc:0.98299+0.00172087\n",
      "[800]\ttrain-auc:0.99787+7.92126e-05\ttest-auc:0.983184+0.00168521\n",
      "[900]\ttrain-auc:0.998591+6.86982e-05\ttest-auc:0.983279+0.0015821\n",
      "[1000]\ttrain-auc:0.999082+4.91813e-05\ttest-auc:0.983364+0.00152281\n",
      "[1100]\ttrain-auc:0.999423+2.37318e-05\ttest-auc:0.983461+0.00153104\n",
      "[1200]\ttrain-auc:0.999645+1.84217e-05\ttest-auc:0.98352+0.00149707\n",
      "[1300]\ttrain-auc:0.999782+1.49077e-05\ttest-auc:0.983601+0.00150369\n",
      "[1400]\ttrain-auc:0.999872+1.16516e-05\ttest-auc:0.983658+0.00149679\n",
      "[1500]\ttrain-auc:0.999927+8.30903e-06\ttest-auc:0.983677+0.00146378\n",
      "[1600]\ttrain-auc:0.999959+5.77581e-06\ttest-auc:0.9837+0.0014458\n",
      "[1700]\ttrain-auc:0.999978+4.53431e-06\ttest-auc:0.983743+0.00140527\n",
      "[1800]\ttrain-auc:0.999989+3.16228e-06\ttest-auc:0.983811+0.00136471\n",
      "[1900]\ttrain-auc:0.999995+2.498e-06\ttest-auc:0.983855+0.00132693\n",
      "[2000]\ttrain-auc:0.999997+1.62481e-06\ttest-auc:0.983891+0.00134806\n",
      "Wall time: 1h 7min 12s\n"
     ]
    }
   ],
   "source": [
    "import xgboost as xgb\n",
    "dtrain = xgb.DMatrix(X_resampled, label = y_resampled)\n",
    "dval = xgb.DMatrix(test, label = test_target)\n",
    "params = {'booster': 'gbtree',\n",
    "         'objective': 'binary:logistic',\n",
    "         'eval_metric': 'auc',\n",
    "         'max_depth': 5,\n",
    "         'lambda': 10,\n",
    "         'subsample': 0.75,\n",
    "         'colsample_bytree': 0.75,\n",
    "         'min_child_weight': 1,\n",
    "         'eta': 0.025,\n",
    "         'seed': 2018,\n",
    "         'silent':1\n",
    "         }\n",
    "watchlist = [(dtrain, 'train'), (dval, 'val')]\n",
    "%time cv_log = xgb.cv(params, dtrain, num_boost_round = 5000, nfold = 5, metrics='auc',early_stopping_rounds=50, verbose_eval=100, seed=2018)"
   ]
  },
  {
   "cell_type": "code",
   "execution_count": 406,
   "metadata": {},
   "outputs": [
    {
     "name": "stdout",
     "output_type": "stream",
     "text": [
      "\n",
      "best nround when max_depth = 5: 1988\n"
     ]
    }
   ],
   "source": [
    "print('\\nbest nround when max_depth = 5: %d' %(len(cv_log)))"
   ]
  },
  {
   "cell_type": "code",
   "execution_count": 407,
   "metadata": {},
   "outputs": [
    {
     "name": "stdout",
     "output_type": "stream",
     "text": [
      "[0]\ttrain-auc:0.903665\tval-auc:0.592543\n",
      "[1]\ttrain-auc:0.913632\tval-auc:0.600112\n",
      "[2]\ttrain-auc:0.927592\tval-auc:0.609488\n",
      "[3]\ttrain-auc:0.938517\tval-auc:0.616247\n",
      "[4]\ttrain-auc:0.94325\tval-auc:0.620929\n",
      "[5]\ttrain-auc:0.943542\tval-auc:0.617593\n",
      "[6]\ttrain-auc:0.945654\tval-auc:0.621294\n",
      "[7]\ttrain-auc:0.946311\tval-auc:0.621942\n",
      "[8]\ttrain-auc:0.94764\tval-auc:0.62928\n",
      "[9]\ttrain-auc:0.948991\tval-auc:0.630574\n",
      "Wall time: 6.34 s\n"
     ]
    }
   ],
   "source": [
    "params['num_boost_round'] = len(cv_log)\n",
    "%time model = xgb.train(params, dtrain, evals = watchlist)"
   ]
  },
  {
   "cell_type": "code",
   "execution_count": 419,
   "metadata": {},
   "outputs": [
    {
     "name": "stdout",
     "output_type": "stream",
     "text": [
      "Accuracy: 0.9157\n",
      "f1_score: 0.05479\n",
      "auc: 0.5093\n",
      "confusion matrix:\n",
      " [[8219  123]\n",
      " [ 636   22]]\n"
     ]
    }
   ],
   "source": [
    "test_y = model.predict(dval)\n",
    "test_y = (test_y>=0.5)*1\n",
    "from sklearn.metrics import accuracy_score, confusion_matrix, f1_score, roc_auc_score\n",
    "print('Accuracy: %.4g' %accuracy_score(test_target, test_y))\n",
    "print('f1_score: %.4g' %f1_score(test_target, test_y))\n",
    "print('auc: %.4g' %roc_auc_score(test_target, test_y))\n",
    "print('confusion matrix:\\n', confusion_matrix(test_target, test_y))"
   ]
  },
  {
   "cell_type": "markdown",
   "metadata": {},
   "source": [
    "将预测值代入老师上传的盈利计算文件中，得到如下结果：\n",
    "\n",
    "|优化前收入（亿）| 实际收入（亿）| 提升百分比（%） | 收益增加（亿） |\n",
    "|:-:|:-:|:-:|:-:|\n",
    "| 176200 | 185900 | 5.5051 | 33.0307 | \n"
   ]
  },
  {
   "cell_type": "markdown",
   "metadata": {},
   "source": [
    "### 5.2 Logistic Regression\n",
    "&emsp;&emsp;由于逻辑回归的可解释性比较强，效果也还行，它被广泛地用于解决互联网领域地分类问题。因此，在这里我也尝试使用了逻辑回归进行处理。  \n",
    "&emsp;&emsp;由于逻辑回归预测时无法处理缺失值，使用缺失值的前面一个值来填充该缺失值。"
   ]
  },
  {
   "cell_type": "code",
   "execution_count": 18,
   "metadata": {},
   "outputs": [
    {
     "name": "stdout",
     "output_type": "stream",
     "text": [
      "Wall time: 2min 13s\n",
      "Accuracy: 0.6533\n",
      "f1_score: 0.2008\n",
      "auc: 0.6268\n",
      "confusion matrix:\n",
      " [[5488 2854]\n",
      " [ 266  392]]\n"
     ]
    }
   ],
   "source": [
    "from sklearn.linear_model import LogisticRegression\n",
    "import copy\n",
    "LR = LogisticRegression()\n",
    "%time model_lr = LR.fit(X_resampled, y_resampled)\n",
    "test_rmna = copy.deepcopy(test)\n",
    "test_rmna.fillna(method = 'ffill', inplace = True)\n",
    "test_y_lr = model_lr.predict(test_rmna)\n",
    "print('Accuracy: %.4g' %accuracy_score(test_target, test_y_lr))\n",
    "print('f1_score: %.4g' %f1_score(test_target, test_y_lr))\n",
    "print('auc: %.4g' %roc_auc_score(test_target, test_y_lr))\n",
    "print('confusion matrix:\\n', confusion_matrix(test_target, test_y_lr))"
   ]
  },
  {
   "cell_type": "markdown",
   "metadata": {},
   "source": [
    "&emsp;&emsp;将预测值代入老师上传的盈利计算文件中，得到如下结果：\n",
    "\n",
    "|优化前收入（亿）| 实际收入（亿）| 提升百分比（%） | 收益增加（亿） |\n",
    "|:-:|:-:|:-:|:-:|\n",
    "| 176200 | 282800 | 60.4994 | 362.9966 | \n",
    "&emsp;&emsp;可以看出从收益的角度来看，表现远远优于xgboost，并且耗时也远远短于xgboost，万万没想到。"
   ]
  },
  {
   "cell_type": "markdown",
   "metadata": {},
   "source": [
    "### 5.3 多模型Stacking（Logistic/Ridge+(LR+CART+RF)）\n",
    "&emsp;&emsp;可能单个模型的效果不够理想，若想得到更好的结果，就需要把单个模型的结果融合在一起，因此我也尝试了Stacking进行模型融合。  \n",
    "&emsp;&emsp;这里使用两层stacking，第一层的基模型选取的是逻辑回归，单一CART决策树和随机森林。本来为了多元化采取的是逻辑回归+随机森林+XGBoost+支持向量机这一想象中效果会比较好的组合，但是SVM和XGB算法太耗时（SVM一层需要约三小时），经不起交叉验证的折腾，于是变成了LR+CART+RF这一组合。第二层使用了两种模型，一种还是逻辑回归，另一种是岭回归，从收益、f-score来看后者表现更优秀。\n"
   ]
  },
  {
   "cell_type": "code",
   "execution_count": 16,
   "metadata": {},
   "outputs": [
    {
     "name": "stdout",
     "output_type": "stream",
     "text": [
      "0 DecisionTreeClassifier(class_weight=None, criterion='gini', max_depth=15,\n",
      "            max_features=None, max_leaf_nodes=None,\n",
      "            min_impurity_decrease=0.0, min_impurity_split=None,\n",
      "            min_samples_leaf=1, min_samples_split=2,\n",
      "            min_weight_fraction_leaf=0.0, presort=False, random_state=2018,\n",
      "            splitter='best')\n",
      "Fold 0\n",
      "Fold 0 running time: 5.975743055343628\n",
      "Fold 1\n",
      "Fold 1 running time: 6.623552322387695\n",
      "Fold 2\n",
      "Fold 2 running time: 6.56450891494751\n",
      "Fold 3\n",
      "Fold 3 running time: 6.267755508422852\n",
      "auc: 0.5981\n",
      "1 RandomForestClassifier(bootstrap=False, class_weight=None, criterion='gini',\n",
      "            max_depth=12, max_features='auto', max_leaf_nodes=None,\n",
      "            min_impurity_decrease=0.0, min_impurity_split=None,\n",
      "            min_samples_leaf=3, min_samples_split=6,\n",
      "            min_weight_fraction_leaf=0.0, n_estimators=400, n_jobs=-1,\n",
      "            oob_score=False, random_state=None, verbose=0,\n",
      "            warm_start=False)\n",
      "Fold 0\n",
      "Fold 0 running time: 97.74506139755249\n",
      "Fold 1\n",
      "Fold 1 running time: 132.51566696166992\n",
      "Fold 2\n",
      "Fold 2 running time: 133.89923906326294\n",
      "Fold 3\n",
      "Fold 3 running time: 92.81352019309998\n",
      "auc: 0.705\n",
      "2 LogisticRegression(C=1.0, class_weight='balanced', dual=False,\n",
      "          fit_intercept=True, intercept_scaling=1, max_iter=100,\n",
      "          multi_class='ovr', n_jobs=1, penalty='l2', random_state=None,\n",
      "          solver='liblinear', tol=0.0001, verbose=0, warm_start=False)\n",
      "Fold 0\n",
      "Fold 0 running time: 123.75549387931824\n",
      "Fold 1\n",
      "Fold 1 running time: 92.37792444229126\n",
      "Fold 2\n",
      "Fold 2 running time: 82.4843385219574\n",
      "Fold 3\n",
      "Fold 3 running time: 108.15546584129333\n",
      "auc: 0.6842\n"
     ]
    }
   ],
   "source": [
    "from sklearn.ensemble import RandomForestClassifier\n",
    "from sklearn.model_selection import StratifiedKFold\n",
    "from sklearn.tree import DecisionTreeClassifier\n",
    "import time;\n",
    "init_params = {\n",
    "    'LR': {\n",
    "        'penalty': 'l2', 'class_weight': 'balanced'\n",
    "    },\n",
    "    'XGB': {\n",
    "         'objective': 'binary:logistic',\n",
    "         'max_depth': 5,\n",
    "         'scale_pos_weight': 6,\n",
    "         'n_estimators': 1500,\n",
    "         'reg_lambda': 100,\n",
    "         'subsample': 0.75,\n",
    "         'colsample_bytree': 0.75,\n",
    "         'min_child_weight': 1,\n",
    "         'learning_rate': 0.025,\n",
    "         'seed': 2018,\n",
    "         'silent':True\n",
    "    },\n",
    "    'RF': {\n",
    "        'n_estimators': 400, 'n_jobs': -1, 'criterion': 'gini',\n",
    "        'min_samples_leaf': 3, 'bootstrap': False,\n",
    "        'max_depth': 12, 'min_samples_split': 6\n",
    "    },\n",
    "    'SVM': {\n",
    "        'C': 5, 'kernel': 'rbf', 'gamma': 0.001, 'probability': True, 'cache_size': 7000,\n",
    "        'class_weight': 'balanced','verbose': True,'random_state': 2018\n",
    "    },\n",
    "    'CART': {\n",
    "        'criterion': 'gini', 'max_depth': 15, 'min_samples_leaf': 1, 'random_state': 2018\n",
    "    }\n",
    "}\n",
    "\n",
    "clfs = [\n",
    "#     svm.SVC().set_params(**init_params.get('SVM')),\n",
    "    DecisionTreeClassifier().set_params(**init_params.get('CART')),\n",
    "    RandomForestClassifier().set_params(**init_params.get('RF')),\n",
    "    LogisticRegression().set_params(**init_params.get('LR')),\n",
    "#     xgb.XGBClassifier().set_params(**init_params.get('XGB'))\n",
    "]\n",
    "\n",
    "skf = StratifiedKFold(n_splits = 4, random_state = 2018)\n",
    "\n",
    "train_stack = np.zeros((X_resampled.shape[0], len(clfs)))\n",
    "test_stack = np.zeros((test.shape[0], len(clfs)))\n",
    "\n",
    "\n",
    "\n",
    "for i, clf in enumerate(clfs):\n",
    "    print(i, clf)\n",
    "    test_stack_i = np.zeros((test.shape[0], 4))\n",
    "    j = -1\n",
    "    for train, test_cv in skf.split(X_resampled, y_resampled):\n",
    "        time_start = time.time()\n",
    "        j = j+1\n",
    "        trainset_x = X_resampled.loc[train]\n",
    "        trainset_y = y_resampled[train]\n",
    "        test_cvset_x = X_resampled.loc[test_cv]\n",
    "        test_cvset_y = y_resampled[test_cv]\n",
    "        clf.fit(trainset_x, trainset_y)\n",
    "        test_cvset_y_pred = clf.predict_proba(test_cvset_x)[:, 1]\n",
    "        train_stack[test_cv, i] = test_cvset_y_pred\n",
    "        try:\n",
    "            test_stack_i[:, j] = clf.predict_proba(test)[:, 1]\n",
    "        except ValueError:\n",
    "            test_stack_i[:, j] = clf.predict_proba(test_rmna)[:, 1]\n",
    "        time_end = time.time()\n",
    "        print('Fold', j, 'running time:', time_end-time_start)\n",
    "    test_stack[:, i] = test_stack_i.mean(1)    \n",
    "    print('auc: %.4g' %roc_auc_score(test_target, test_stack[:, i]))"
   ]
  },
  {
   "cell_type": "code",
   "execution_count": 17,
   "metadata": {},
   "outputs": [
    {
     "name": "stdout",
     "output_type": "stream",
     "text": [
      "Wall time: 127 ms\n",
      "Accuracy: 0.9221\n",
      "f1_score: 0.04885\n",
      "auc: 0.51\n",
      "confusion matrix:\n",
      " [[8281   61]\n",
      " [ 640   18]]\n"
     ]
    }
   ],
   "source": [
    "clf = LogisticRegression(C = 2, class_weight = 'balanced', n_jobs = -1)\n",
    "%time clf.fit(train_stack, y_resampled)\n",
    "pred_stacking = clf.predict(test_stack)\n",
    "print('Accuracy: %.4g' %accuracy_score(test_target, pred_stacking))\n",
    "print('f1_score: %.4g' %f1_score(test_target, pred_stacking))\n",
    "print('auc: %.4g' %roc_auc_score(test_target, pred_stacking))\n",
    "print('confusion matrix:\\n', confusion_matrix(test_target, pred_stacking))       "
   ]
  },
  {
   "cell_type": "markdown",
   "metadata": {},
   "source": [
    "&emsp;&emsp;将预测值代入老师上传的盈利计算文件中，得到如下结果：\n",
    "\n",
    "|优化前收入（亿）| 实际收入（亿）| 提升百分比（%） | 收益增加（亿） |\n",
    "|:-:|:-:|:-:|:-:|\n",
    "| 176200 | 188100 | 6.7537 | 40.5221 |"
   ]
  },
  {
   "cell_type": "code",
   "execution_count": 25,
   "metadata": {},
   "outputs": [
    {
     "name": "stdout",
     "output_type": "stream",
     "text": [
      "Wall time: 1min 44s\n",
      "Accuracy: 0.8697\n",
      "f1_score: 0.186\n",
      "auc: 0.5629\n",
      "confusion matrix:\n",
      " [[7693  649]\n",
      " [ 524  134]]\n"
     ]
    }
   ],
   "source": [
    "from sklearn.linear_model import RidgeCV\n",
    "# clf = LogisticRegression(C = 2, class_weight = 'balanced', n_jobs = -1)\n",
    "clf = RidgeCV(alphas=np.linspace(0, 200), cv=100)\n",
    "%time clf.fit(train_stack, y_resampled)\n",
    "pred_stacking = clf.predict(test_stack)\n",
    "pred_ridge = (pred_stacking - pred_stacking.min()) / (pred_stacking.max() - pred_stacking.min())\n",
    "pred_ridge = (pred_ridge>=0.5)*1\n",
    "print('Accuracy: %.4g' %accuracy_score(test_target, pred_ridge))\n",
    "print('f1_score: %.4g' %f1_score(test_target, pred_ridge))\n",
    "print('auc: %.4g' %roc_auc_score(test_target, pred_ridge))\n",
    "print('confusion matrix:\\n', confusion_matrix(test_target, pred_ridge))   "
   ]
  },
  {
   "cell_type": "markdown",
   "metadata": {},
   "source": [
    "&emsp;&emsp;将预测值代入老师上传的盈利计算文件中，得到如下结果：\n",
    "\n",
    "|优化前收入（亿）| 实际收入（亿）| 提升百分比（%） | 收益增加（亿） |\n",
    "|:-:|:-:|:-:|:-:|\n",
    "| 176200 | 245300 | 39.2168 | 235.3008 |\n",
    "&emsp;&emsp;比Logistic作为第二层训练变量表现要好很多，但是仍旧没有逻辑回归本身表现好。"
   ]
  },
  {
   "cell_type": "markdown",
   "metadata": {},
   "source": [
    "## 五、总结\n",
    "&emsp;&emsp;将以上四个模型预测结果进行汇总：\n",
    "\n",
    "模型类别|优化前收入（亿）| 实际收入（亿）| 提升百分比（%） | 收益增加（亿）| f_score\n",
    ":-:|:-:|:-:|:-:|:-:|:-:\n",
    "single XGBoost| 176200 | 185900 | 5.5051 | 33.0307 | 0.05479\n",
    "Logistic Regression| 176200 | 282800 | 60.4994 | 362.9966 | 0.2008\n",
    "Logistic+(LR+CART+RF)| 176200 | 188100 | 6.7537 | 40.5221 | 0.04885\n",
    "Ridge+(LR+CART+RF)| 176200 | 245300 | 39.2168 | 235.3008 |  0.186\n",
    "&emsp;&emsp;可以看到，表现最好的模型为Logistic Regression，提升比例达到了60%,表现最差的为XGBoost，仅提升了5%，如果没有计算错误的话，这是一次完美的农民逆袭科学家的案例！"
   ]
  }
 ],
 "metadata": {
  "kernelspec": {
   "display_name": "Python 3",
   "language": "python",
   "name": "python3"
  },
  "language_info": {
   "codemirror_mode": {
    "name": "ipython",
    "version": 3
   },
   "file_extension": ".py",
   "mimetype": "text/x-python",
   "name": "python",
   "nbconvert_exporter": "python",
   "pygments_lexer": "ipython3",
   "version": "3.6.3"
  }
 },
 "nbformat": 4,
 "nbformat_minor": 2
}
